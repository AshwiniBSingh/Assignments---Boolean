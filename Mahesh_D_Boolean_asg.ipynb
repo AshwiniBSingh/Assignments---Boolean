{
 "cells": [
  {
   "cell_type": "code",
   "execution_count": 16,
   "id": "69b8e2ef",
   "metadata": {},
   "outputs": [
    {
     "name": "stdout",
     "output_type": "stream",
     "text": [
      "Type=  <class 'bool'>\n",
      "Id of number=  140726885996368\n"
     ]
    }
   ],
   "source": [
    "#Declare a boolean value and store it in a variable. \n",
    "#Check the type and print the id of the same.\n",
    "num2=100\n",
    "res=num2==100\n",
    "print('Type= ',type(res))\n",
    "print('Id of number= ',id(res))"
   ]
  },
  {
   "cell_type": "code",
   "execution_count": 19,
   "id": "baa4de34",
   "metadata": {},
   "outputs": [
    {
     "name": "stdout",
     "output_type": "stream",
     "text": [
      "Type of res3=  <class 'bool'>\n",
      "Id of res3=  140726885996368\n",
      "Type of res4=  <class 'bool'>\n",
      "Id of res4=  140726885996368\n"
     ]
    }
   ],
   "source": [
    "#Take one boolean value between 0 - 256.\n",
    "#Assign it to two different variables.\n",
    "\n",
    "\n",
    "num3=105\n",
    "res3=num3==105\n",
    "\n",
    "num4=105\n",
    "res4=num4==105\n",
    "\n",
    "#Check the type and print the id of the same.\n",
    "print('Type of res3= ',type(res3))\n",
    "print('Id of res3= ',id(res3))\n",
    "\n",
    "print('Type of res4= ',type(res4))\n",
    "print('Id of res4= ',id(res4))\n"
   ]
  },
  {
   "cell_type": "code",
   "execution_count": 25,
   "id": "267eb028",
   "metadata": {},
   "outputs": [
    {
     "name": "stdout",
     "output_type": "stream",
     "text": [
      "Type of num5=  <class 'bool'>\n",
      "Id of num5=  140726885996368\n",
      "Type of num6=  <class 'bool'>\n",
      "Id of num6=  140726885996368\n",
      "2\n",
      "0\n",
      "1\n",
      "1.0\n",
      "0\n",
      "1\n",
      "1\n"
     ]
    }
   ],
   "source": [
    "#Arithmatic Operations on boolean data\n",
    "#Take two different boolean values.\n",
    "#Store them in two different variables.\n",
    "\n",
    "\n",
    "\n",
    "#Do below operations on them:-\n",
    "    #Find sum of both values\n",
    "    \n",
    "\n",
    "\n",
    "    #Find differce between them\n",
    "\n",
    "\n",
    "\n",
    "    #Find the product of both.\n",
    "\n",
    "\n",
    "\n",
    "    #Find value after dividing first value with second value\n",
    "    \n",
    "\n",
    "    \n",
    "    #Find the remainder after dividing first value with second value\n",
    "    \n",
    "\n",
    "    \n",
    "    #Find the quotient after dividing first value with second value\n",
    "    \n",
    "\n",
    "    \n",
    "    #Find the result of first value to the power of second value.\n",
    "\n",
    "res5=7\n",
    "num5=res5==7\n",
    "\n",
    "res6=8\n",
    "num6=res6==8\n",
    "\n",
    "print('Type of num5= ',type(num5))\n",
    "print('Id of num5= ',id(num5))\n",
    "\n",
    "print('Type of num6= ',type(num6))\n",
    "print('Id of num6= ',id(num6))\n",
    "\n",
    "\n",
    "print(num5+num6)   #sum\n",
    "print(num5-num6)   #difference\n",
    "print(num5*num6)   #product\n",
    "print(num5/num6)   #divide\n",
    "print(num5%num6)   #remainder\n",
    "print(num5//num6)   #quotient\n",
    "print(num5**num6)   #power\n"
   ]
  },
  {
   "cell_type": "code",
   "execution_count": 27,
   "id": "ccdf9498",
   "metadata": {},
   "outputs": [
    {
     "name": "stdout",
     "output_type": "stream",
     "text": [
      "Type of num7=  <class 'bool'>\n",
      "Id of num7=  140726885996368\n",
      "Type of num8=  <class 'bool'>\n",
      "Id of num8=  140726885996368\n",
      "False\n",
      "False\n",
      "True\n",
      "True\n"
     ]
    }
   ],
   "source": [
    "#Comparison Operators on boolean values\n",
    "#Take two different boolean values.\n",
    "#Store them in two different variables.\n",
    "\n",
    "\n",
    "\n",
    "#Do below operations on them:-\n",
    "    #Compare these two values with below operator:-\n",
    "        #Greater than, '>'\n",
    "    \n",
    "\n",
    "\n",
    "        #less than, '<'\n",
    "    \n",
    "\n",
    "        #Greater than or equal to, '>='\n",
    "\n",
    "\n",
    "        #Less than or equal to, '<='    \n",
    "\n",
    "\n",
    "#Observe their output(return type should be boolean)\n",
    "\n",
    "#Comparison Operators on integers\n",
    "#Take two different intger values.\n",
    "#Store them in two different variables.\n",
    "#Do below operations on them:-\n",
    "    #Compare se two numbers with below operator:-\n",
    "        #Greater than, '>'\n",
    "        #Smaller than, '<'\n",
    "        #Greater than or equal to, '>='\n",
    "        #Less than or equal to, '<='\n",
    "#Observe their output(return type should be boolean)\n",
    "\n",
    "res7=2\n",
    "num7=res7==2\n",
    "\n",
    "res8=3\n",
    "num8=res8==3\n",
    "\n",
    "print('Type of num7= ',type(num7))\n",
    "print('Id of num7= ',id(num7))\n",
    "\n",
    "print('Type of num8= ',type(num8))\n",
    "print('Id of num8= ',id(num8))\n",
    "\n",
    "print(num7 > num8)\n",
    "print(num7 < num8)\n",
    "print(num7 >= num8)\n",
    "print(num7 <= num8)"
   ]
  },
  {
   "cell_type": "code",
   "execution_count": 28,
   "id": "31641581",
   "metadata": {},
   "outputs": [
    {
     "name": "stdout",
     "output_type": "stream",
     "text": [
      "True\n",
      "False\n"
     ]
    }
   ],
   "source": [
    "#Equality Operator\n",
    "#Take two different boolean values.\n",
    "#Store them in two different variables.\n",
    "\n",
    "\n",
    "\n",
    "#Equuate them using equality operator (==, !=)\n",
    "\n",
    "\n",
    "\n",
    "#Observe the output(return type should be boolean)\n",
    "res9=1\n",
    "num9=res9==1\n",
    "res10=2\n",
    "num10=res10==2\n",
    "\n",
    "print(num9 == num10)\n",
    "print(num9 != num10)"
   ]
  },
  {
   "cell_type": "code",
   "execution_count": 29,
   "id": "2f60a18d",
   "metadata": {},
   "outputs": [
    {
     "name": "stdout",
     "output_type": "stream",
     "text": [
      "True\n",
      "False\n",
      "False\n",
      "False\n",
      "True\n",
      "True\n",
      "True\n",
      "False\n",
      "False\n",
      "True\n"
     ]
    }
   ],
   "source": [
    "#Logical operators\n",
    "#Observe the output of below code\n",
    "#Cross check the output manually\n",
    "\n",
    "print(True and True)        #----------------------------------------->Output is True\n",
    "print(False and True)        #----------------------------------------->Output is False\n",
    "print(True and False)        #----------------------------------------->Output is False\n",
    "print(False and False)       #----------------------------------------->Output is False\n",
    "\n",
    "print(True or True)          #----------------------------------------->Output is True\n",
    "print(False or True)         #----------------------------------------->Output is True\n",
    "print(True or False)         #----------------------------------------->Output is True\n",
    "print(False or False)        #----------------------------------------->Output is False\n",
    "\n",
    "print(not True)              #----------------------------------------->Output is False\n",
    "print(not False)             #----------------------------------------->Output is True"
   ]
  },
  {
   "cell_type": "code",
   "execution_count": 41,
   "id": "68a33a87",
   "metadata": {},
   "outputs": [
    {
     "name": "stdout",
     "output_type": "stream",
     "text": [
      "True\n",
      "True\n",
      "False\n",
      "-2\n",
      "4\n",
      "0\n"
     ]
    }
   ],
   "source": [
    "#Bitwise Operators\n",
    "#Do below operations on the values provided below:-\n",
    "    #Bitwise and(&) -----------------------------------------> True, True    -------> Output is True\n",
    "    \n",
    "\n",
    "\n",
    "    #Bitwise or(|)  -----------------------------------------> True, False   -------> Output is True\n",
    "\n",
    "\n",
    "\n",
    "    #Bitwise(^)     -----------------------------------------> True, False   -------> Output is True\n",
    "\n",
    "  \n",
    "\n",
    "    #Bitwise negation(~) ------------------------------------> True          -------> Output is -2\n",
    "\n",
    "   \n",
    "\n",
    "    #Bitwise left shift  ------------------------------------> True,2        -------> Output is 4\n",
    "\n",
    "\n",
    "\n",
    "    #Bitwise right shift ------------------------------------> True,2        -------> Output is 0\n",
    "\n",
    "\n",
    "\n",
    "#Cross check the output manually\n",
    "val1=1\n",
    "true=val1==1\n",
    "val2=0\n",
    "false=val2==0\n",
    "\n",
    "print(true & true)\n",
    "print(true | false)\n",
    "print(true ^ false)\n",
    "print(~true)\n",
    "print(true << 2)\n",
    "print(true >> 2)"
   ]
  },
  {
   "cell_type": "code",
   "execution_count": 42,
   "id": "719a0214",
   "metadata": {},
   "outputs": [
    {
     "name": "stdout",
     "output_type": "stream",
     "text": [
      "True\n",
      "False\n"
     ]
    }
   ],
   "source": [
    "#What is the output of expression inside print statement. Cross check before running the program.\n",
    "a = True\n",
    "b = True\n",
    "print(a is b)          #True or False?   #\n",
    "print(a is not b)      #True or False?"
   ]
  },
  {
   "cell_type": "code",
   "execution_count": 43,
   "id": "9ed72faa",
   "metadata": {},
   "outputs": [
    {
     "name": "stdout",
     "output_type": "stream",
     "text": [
      "True\n",
      "False\n"
     ]
    }
   ],
   "source": [
    "a = False\n",
    "b = False\n",
    "print(a is b)          #True or False?\n",
    "print(a is not b)      #True or False?"
   ]
  },
  {
   "cell_type": "code",
   "execution_count": 44,
   "id": "72ef8da0",
   "metadata": {},
   "outputs": [
    {
     "name": "stdout",
     "output_type": "stream",
     "text": [
      "True\n",
      "True\n",
      "True\n",
      "True\n",
      "True\n"
     ]
    }
   ],
   "source": [
    "#Membership operation\n",
    "#in, not in are two membership operators and it returns boolean value\n",
    "\n",
    "print(True in [10,10.20,10+20j,'Python', True])\n",
    "print(False in (10,10.20,10+20j,'Python', False))\n",
    "print(True in {1,2,3, True})\n",
    "print(True in {True:100, False:200, True:300})\n",
    "print(False in {True:100, False:200, True:300})"
   ]
  },
  {
   "cell_type": "code",
   "execution_count": null,
   "id": "44fb08b1",
   "metadata": {},
   "outputs": [],
   "source": []
  }
 ],
 "metadata": {
  "kernelspec": {
   "display_name": "Python 3",
   "language": "python",
   "name": "python3"
  },
  "language_info": {
   "codemirror_mode": {
    "name": "ipython",
    "version": 3
   },
   "file_extension": ".py",
   "mimetype": "text/x-python",
   "name": "python",
   "nbconvert_exporter": "python",
   "pygments_lexer": "ipython3",
   "version": "3.8.8"
  }
 },
 "nbformat": 4,
 "nbformat_minor": 5
}
