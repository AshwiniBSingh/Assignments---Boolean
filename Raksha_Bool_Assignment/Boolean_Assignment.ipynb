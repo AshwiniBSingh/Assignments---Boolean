{
 "cells": [
  {
   "cell_type": "code",
   "execution_count": 16,
   "id": "9f037b02",
   "metadata": {},
   "outputs": [
    {
     "name": "stdout",
     "output_type": "stream",
     "text": [
      "<class 'bool'>\n",
      "<class 'bool'>\n"
     ]
    }
   ],
   "source": [
    "a = True\n",
    "b = False\n",
    "\n",
    "print(type(a))\n",
    "print(type(a))"
   ]
  },
  {
   "cell_type": "code",
   "execution_count": 17,
   "id": "86660f69",
   "metadata": {},
   "outputs": [
    {
     "name": "stdout",
     "output_type": "stream",
     "text": [
      "140718778865488\n",
      "140718778865488\n"
     ]
    }
   ],
   "source": [
    "abc = bool(25)\n",
    "xyz = bool(25)\n",
    "\n",
    "print(id(abc))\n",
    "print(id(xyz))\n",
    "\n",
    "# because the variables are alloted the same memory location as the bool values are the same for both of them"
   ]
  },
  {
   "cell_type": "code",
   "execution_count": 21,
   "id": "8cbe4d7b",
   "metadata": {},
   "outputs": [
    {
     "name": "stdout",
     "output_type": "stream",
     "text": [
      "1\n",
      "-1\n",
      "0\n",
      "0.0\n",
      "0\n",
      "0\n",
      "0\n"
     ]
    }
   ],
   "source": [
    "#Arithmatic Operations on boolean data\n",
    "\n",
    "x = bool(0)\n",
    "y = bool(30)\n",
    "\n",
    "print(x - y)\n",
    "print(x * y)\n",
    "print(x / y)\n",
    "print(x % y)\n",
    "print(x // y)\n",
    "print(x ** y)"
   ]
  },
  {
   "cell_type": "code",
   "execution_count": 23,
   "id": "827f7ef4",
   "metadata": {},
   "outputs": [
    {
     "name": "stdout",
     "output_type": "stream",
     "text": [
      "False\n",
      "True\n",
      "False\n",
      "True\n",
      "False\n",
      "True\n"
     ]
    }
   ],
   "source": [
    "#Comparison Operators on boolean values\n",
    "\n",
    "x = bool(0)\n",
    "y = bool(30)\n",
    "\n",
    "print(x > y)\n",
    "print(x < y)\n",
    "print(x >= y)\n",
    "print(x <= y)"
   ]
  },
  {
   "cell_type": "code",
   "execution_count": 24,
   "id": "b2d4c034",
   "metadata": {},
   "outputs": [
    {
     "name": "stdout",
     "output_type": "stream",
     "text": [
      "False\n",
      "True\n"
     ]
    }
   ],
   "source": [
    "#Equality Operator\n",
    "\n",
    "x = bool(0)\n",
    "y = bool(30)\n",
    "\n",
    "print(x == y)\n",
    "print(x != y)"
   ]
  },
  {
   "cell_type": "code",
   "execution_count": 32,
   "id": "97464fe7",
   "metadata": {},
   "outputs": [
    {
     "name": "stdout",
     "output_type": "stream",
     "text": [
      "True\n",
      "True\n",
      "True\n",
      "-2\n",
      "4\n",
      "0\n"
     ]
    }
   ],
   "source": [
    "#Bitwise Operators\n",
    "\n",
    "print(True & True)\n",
    "print(True | False)\n",
    "print(True ^ False)\n",
    "print(~True)\n",
    "print(True << 2)\n",
    "print(True >> 2)"
   ]
  },
  {
   "cell_type": "code",
   "execution_count": 33,
   "id": "34182744",
   "metadata": {},
   "outputs": [
    {
     "name": "stdout",
     "output_type": "stream",
     "text": [
      "True\n",
      "False\n",
      "True\n",
      "False\n"
     ]
    }
   ],
   "source": [
    "a = True\n",
    "b = True\n",
    "print(a is b)          \n",
    "print(a is not b)      \n",
    "\n",
    "a = False\n",
    "b = False\n",
    "print(a is b)          \n",
    "print(a is not b)"
   ]
  },
  {
   "cell_type": "code",
   "execution_count": 34,
   "id": "a69aa0f9",
   "metadata": {},
   "outputs": [
    {
     "name": "stdout",
     "output_type": "stream",
     "text": [
      "True\n",
      "True\n",
      "True\n",
      "True\n",
      "True\n"
     ]
    }
   ],
   "source": [
    "print(True in [10,10.20,10+20j,'Python', True])\n",
    "print(False in (10,10.20,10+20j,'Python', False))\n",
    "print(True in {1,2,3, True})\n",
    "print(True in {True:100, False:200, True:300})\n",
    "print(False in {True:100, False:200, True:300})"
   ]
  },
  {
   "cell_type": "code",
   "execution_count": null,
   "id": "1629344b",
   "metadata": {},
   "outputs": [],
   "source": []
  },
  {
   "cell_type": "code",
   "execution_count": null,
   "id": "dd7ea65a",
   "metadata": {},
   "outputs": [],
   "source": []
  },
  {
   "cell_type": "code",
   "execution_count": null,
   "id": "fd0104ee",
   "metadata": {},
   "outputs": [],
   "source": []
  },
  {
   "cell_type": "code",
   "execution_count": null,
   "id": "5c9344e1",
   "metadata": {},
   "outputs": [],
   "source": []
  },
  {
   "cell_type": "code",
   "execution_count": null,
   "id": "ea995179",
   "metadata": {},
   "outputs": [],
   "source": []
  }
 ],
 "metadata": {
  "kernelspec": {
   "display_name": "Python 3",
   "language": "python",
   "name": "python3"
  },
  "language_info": {
   "codemirror_mode": {
    "name": "ipython",
    "version": 3
   },
   "file_extension": ".py",
   "mimetype": "text/x-python",
   "name": "python",
   "nbconvert_exporter": "python",
   "pygments_lexer": "ipython3",
   "version": "3.8.8"
  }
 },
 "nbformat": 4,
 "nbformat_minor": 5
}
