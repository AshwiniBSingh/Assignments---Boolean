{
 "cells": [
  {
   "cell_type": "code",
   "execution_count": 1,
   "id": "95d4317e",
   "metadata": {},
   "outputs": [
    {
     "name": "stdout",
     "output_type": "stream",
     "text": [
      "<class 'bool'>\n",
      "140709805217616\n"
     ]
    }
   ],
   "source": [
    "a=True #declaring boolean variable & assigning value\n",
    "\n",
    "print(type(a)) #prints datatype \n",
    "print(id(a)) #prints id of input value"
   ]
  },
  {
   "cell_type": "code",
   "execution_count": null,
   "id": "7e547b54",
   "metadata": {},
   "outputs": [],
   "source": []
  },
  {
   "cell_type": "code",
   "execution_count": 2,
   "id": "d78341db",
   "metadata": {},
   "outputs": [
    {
     "name": "stdout",
     "output_type": "stream",
     "text": [
      "140709805217616\n",
      "140709805217616\n"
     ]
    }
   ],
   "source": [
    "a=1\n",
    "a=bool(a)\n",
    "b=a\n",
    "\n",
    "\n",
    "\n",
    "\n",
    "print(id(a))\n",
    "print(id(b))"
   ]
  },
  {
   "cell_type": "code",
   "execution_count": null,
   "id": "de4efeae",
   "metadata": {},
   "outputs": [],
   "source": []
  },
  {
   "cell_type": "code",
   "execution_count": 3,
   "id": "a691ea60",
   "metadata": {},
   "outputs": [
    {
     "name": "stdout",
     "output_type": "stream",
     "text": [
      "2\n",
      "0\n",
      "1\n",
      "1\n",
      "0\n",
      "1.0\n",
      "1\n"
     ]
    }
   ],
   "source": [
    "#Arithmatic Operations \n",
    "a=1\n",
    "a=bool(a)\n",
    "b=10\n",
    "b=bool(b)\n",
    "\n",
    "\n",
    "print(a+b) # sum \n",
    "    \n",
    "print(a-b) #differce\n",
    "\n",
    "print(a*b) # product\n",
    "\n",
    "print(a//b) #value after dividing first with second\n",
    "    \n",
    "print(a%b) #remainder after dividing first value with second\n",
    "    \n",
    "print(a/b) #quotient after dividing first value with second \n",
    "    \n",
    "print(b**a) #Find the result of first value to the power of second value."
   ]
  },
  {
   "cell_type": "code",
   "execution_count": 4,
   "id": "4dd1cdae",
   "metadata": {},
   "outputs": [
    {
     "name": "stdout",
     "output_type": "stream",
     "text": [
      "False\n",
      "False\n",
      "True\n",
      "True\n"
     ]
    }
   ],
   "source": [
    "#Comparison Operators\n",
    "\n",
    "a=20\n",
    "a=bool(a)\n",
    "b=20\n",
    "b=bool(b)\n",
    "print(a>b) #Greater than, '>'\n",
    "    \n",
    "print(a<b) #less than, '<'\n",
    "    \n",
    "print(a>=b)#Greater than or equal to, '>='\n",
    "\n",
    "print(a<=b)#Less than or equal to, '<='    \n"
   ]
  },
  {
   "cell_type": "code",
   "execution_count": 5,
   "id": "c713c362",
   "metadata": {},
   "outputs": [
    {
     "name": "stdout",
     "output_type": "stream",
     "text": [
      "True\n",
      "False\n"
     ]
    }
   ],
   "source": [
    "#Equality Operator\n",
    "a=20\n",
    "a=bool(a)\n",
    "b=18\n",
    "b=bool(b)\n",
    "\n",
    "print(a==b) #both are true\n",
    "print(a!=b) #both are true & !(true)=false\n",
    "\n"
   ]
  },
  {
   "cell_type": "code",
   "execution_count": 6,
   "id": "5fbafe0e",
   "metadata": {},
   "outputs": [
    {
     "name": "stdout",
     "output_type": "stream",
     "text": [
      "True\n",
      "False\n",
      "False\n",
      "False\n",
      "True\n",
      "True\n",
      "True\n",
      "False\n",
      "False\n",
      "True\n"
     ]
    }
   ],
   "source": [
    "#Logical operators\n",
    "\n",
    "\n",
    "print(True and True)  #True\n",
    "print(False and True) #False\n",
    "print(True and False) #False\n",
    "print(False and False)#False\n",
    "\n",
    "print(True or True) #True\n",
    "print(False or True) #True\n",
    "print(True or False) #True\n",
    "print(False or False)#False\n",
    "\n",
    "print(not True) #False\n",
    "print(not False)#True"
   ]
  },
  {
   "cell_type": "code",
   "execution_count": 7,
   "id": "177c2d22",
   "metadata": {},
   "outputs": [
    {
     "name": "stdout",
     "output_type": "stream",
     "text": [
      "True\n",
      "True\n",
      "True\n",
      "-2\n",
      "4\n",
      "0\n"
     ]
    }
   ],
   "source": [
    "#Bitwise Operators\n",
    "\n",
    "print(True & True) #Bitwise(&)\n",
    "    \n",
    "print(True | False)#Bitwise or\n",
    "\n",
    "print(True ^ False) #Bitwise(^)\n",
    "\n",
    "print(~True)#Bitwise negation(~)\n",
    "\n",
    "print(True<<2)#Bitwise left shift\n",
    "\n",
    "print(True>>2)#Bitwise right shift\n"
   ]
  },
  {
   "cell_type": "code",
   "execution_count": 8,
   "id": "4f321e4d",
   "metadata": {},
   "outputs": [
    {
     "name": "stdout",
     "output_type": "stream",
     "text": [
      "True\n",
      "False\n",
      "True\n",
      "False\n"
     ]
    }
   ],
   "source": [
    "a = True\n",
    "b = True\n",
    "print(a is b)   \n",
    "print(a is not b)\n",
    "\n",
    "a = False\n",
    "b = False\n",
    "print(a is b)\n",
    "print(a is not b)"
   ]
  },
  {
   "cell_type": "code",
   "execution_count": 9,
   "id": "a03125d5",
   "metadata": {},
   "outputs": [
    {
     "name": "stdout",
     "output_type": "stream",
     "text": [
      "True\n",
      "True\n",
      "True\n",
      "True\n",
      "True\n"
     ]
    }
   ],
   "source": [
    "#Membership operation\n",
    "\n",
    "\n",
    "print(True in [10,10.20,10+20j,'Python', True])\n",
    "print(False in (10,10.20,10+20j,'Python', False))\n",
    "print(True in {1,2,3, True})\n",
    "print(True in {True:100, False:200, True:300})\n",
    "print(False in {True:100, False:200, True:300})"
   ]
  }
 ],
 "metadata": {
  "kernelspec": {
   "display_name": "Python 3",
   "language": "python",
   "name": "python3"
  },
  "language_info": {
   "codemirror_mode": {
    "name": "ipython",
    "version": 3
   },
   "file_extension": ".py",
   "mimetype": "text/x-python",
   "name": "python",
   "nbconvert_exporter": "python",
   "pygments_lexer": "ipython3",
   "version": "3.8.8"
  }
 },
 "nbformat": 4,
 "nbformat_minor": 5
}
