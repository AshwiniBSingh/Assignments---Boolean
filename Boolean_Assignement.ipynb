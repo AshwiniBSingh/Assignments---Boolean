{
 "cells": [
  {
   "cell_type": "code",
   "execution_count": 3,
   "metadata": {
    "id": "7JIFn6BP4M0R"
   },
   "outputs": [
    {
     "name": "stdout",
     "output_type": "stream",
     "text": [
      "<class 'bool'>\n",
      "2040524245568\n"
     ]
    }
   ],
   "source": [
    "#Declare a boolean value and store it in a variable. \n",
    "\n",
    "b1=True\n",
    "\n",
    "#Check the type and print the id of the same.\n",
    "\n",
    "print(type(b1))\n",
    "print(id(id))\n"
   ]
  },
  {
   "cell_type": "code",
   "execution_count": 9,
   "metadata": {
    "id": "o9bjjhN64kAP"
   },
   "outputs": [
    {
     "name": "stdout",
     "output_type": "stream",
     "text": [
      "bool1: False  bool2: False\n",
      "__________________________________\n",
      "id of bool1:  140719772194672\n",
      "id of bool2:  140719772194672\n"
     ]
    }
   ],
   "source": [
    "#Take one boolean value between 0 - 256.\n",
    "#Assign it to two different variables.\n",
    "\n",
    "bool1=False\n",
    "bool2=False\n",
    "print(f\"bool1: {bool1}  bool2: {bool2}\")\n",
    "print(\"__________________________________\")\n",
    "#Check the id of both the variables. It should come same. Check why?\n",
    "print(\"id of bool1: \",id(bool1))\n",
    "print(\"id of bool2: \",id(bool2))\n"
   ]
  },
  {
   "cell_type": "code",
   "execution_count": 14,
   "metadata": {
    "id": "yr4ETGSf4l5y"
   },
   "outputs": [
    {
     "name": "stdout",
     "output_type": "stream",
     "text": [
      "val1 : True: 1  val2: False: 0\n",
      "______________________________\n",
      "sum:  1\n",
      "difference:  1\n",
      "product:  0\n",
      "power:  1\n",
      "division of {val1/val2}:Can not devide by zero\n",
      "quotient of {val1/val2}:Can not devide by zero\n"
     ]
    }
   ],
   "source": [
    "#Arithmatic Operations on boolean data\n",
    "#Take two different boolean values.\n",
    "#Store them in two different variables.\n",
    "\n",
    "val1=True;val2=False\n",
    "\n",
    "print(f\"val1 : {val1}: {int(val1)}  val2: {val2}: {int(val2)}\")\n",
    "print(\"______________________________\")\n",
    "#Do below operations on them:-\n",
    "    #Find sum of both values\n",
    "print(\"sum: \",val1 +val2)\n",
    "\n",
    "    #Find differce between them\n",
    "\n",
    "print(\"difference: \",val1 - val2)\n",
    "\n",
    "    #Find the product of both.\n",
    "print(\"product: \",val1 * val2)\n",
    "\n",
    "  #Find the result of first value to the power of second value.\n",
    "print(\"power: \",val1 ** val2)  \n",
    "\n",
    "    #Find value after dividing first value with second value\n",
    "if(val2):\n",
    "    print(\"division of {val1/val2}: \",val1 / val2)  \n",
    "else:\n",
    "    print(\"division of {val1/val2}:Can not devide by zero.\")\n",
    "\n",
    "    #Find the quotient after dividing first value with second value\n",
    "if(val2):\n",
    "    print(f\"quotient of {val1/val2}: val1 / val2\")       \n",
    "else:\n",
    "    print(\"quotient of {val1/val2}:Can not devide by zero.\")    \n",
    "    "
   ]
  },
  {
   "cell_type": "code",
   "execution_count": 23,
   "metadata": {
    "id": "xG4mX84E4n2O"
   },
   "outputs": [
    {
     "name": "stdout",
     "output_type": "stream",
     "text": [
      "val1:False:0   val2:True:1\n",
      "_______________________________\n",
      ">:  False\n",
      "<:  True\n",
      ">=:  False\n",
      "<=:  True\n"
     ]
    }
   ],
   "source": [
    "#Comparison Operators on boolean values\n",
    "#Take two different boolean values.\n",
    "#Store them in two different variables.\n",
    "\n",
    "\n",
    "val1=False;val2=True\n",
    "print(f\"val1:{val1}:{int(val1)}   val2:{val2}:{int(val2)}\")\n",
    "print(\"_______________________________\")\n",
    "#Do below operations on them:-\n",
    "    #Compare these two values with below operator:-\n",
    "        #Greater than, '>'\n",
    "    \n",
    "print(\">: \",val1>val2)\n",
    "\n",
    "        #less than, '<'\n",
    "print(\"<: \",val1<val2)   \n",
    "\n",
    "        #Greater than or equal to, '>='\n",
    "print(\">=: \",val1>=val2)\n",
    "\n",
    "        #Less than or equal to, '<='    \n",
    "print(\"<=: \",val1<=val2)   \n",
    "\n",
    "\n",
    "#Observe their output(return type should be boolean)\n",
    "\n"
   ]
  },
  {
   "cell_type": "code",
   "execution_count": 31,
   "metadata": {
    "id": "TUIo2Z9V4qBJ"
   },
   "outputs": [
    {
     "name": "stdout",
     "output_type": "stream",
     "text": [
      "val1:False:0   val2:None  val3:True:1\n",
      "__________________________________________\n",
      "val1 == val2 : False\n",
      "val1 == val3 : False\n",
      "val1 != val2 : True\n",
      "val1 != val3 : True\n"
     ]
    }
   ],
   "source": [
    "#Equality Operator\n",
    "#Take two different boolean values.\n",
    "#Store them in two different variables.\n",
    "\n",
    "val1=False;val2=None; val3=True;\n",
    "print(f\"val1:{val1}:{int(val1)}   val2:{val2}  val3:{val3}:{int(val3)}\")\n",
    "print(\"__________________________________________\")\n",
    "\n",
    "#Equuate them using equality operator (==, !=)\n",
    "print(\"val1 == val2 :\", val1 == val2)\n",
    "print(\"val1 == val3 :\", val1 == val3)\n",
    "\n",
    "#Observe the output(return type should be boolean)\n",
    "print(\"val1 != val2 :\", val1 != val2)\n",
    "print(\"val1 != val3 :\", val1 != val3)\n",
    "\n",
    "\n",
    "\n",
    "\n",
    "\n"
   ]
  },
  {
   "cell_type": "code",
   "execution_count": 33,
   "metadata": {
    "id": "XukEq5E44rxv"
   },
   "outputs": [
    {
     "name": "stdout",
     "output_type": "stream",
     "text": [
      "True and True:  True\n",
      "False and True:  False\n",
      "True and False:  False\n",
      "False and False:  False\n",
      "True or True:  True\n",
      "False or True:  True\n",
      "True or False:  True\n",
      "False or False:  False\n",
      "not True:  False\n",
      "not False:  True\n"
     ]
    }
   ],
   "source": [
    "#Logical operators\n",
    "#Observe the output of below code\n",
    "#Cross check the output manually\n",
    "\n",
    "print(\"True and True: \",True and True)        #----------------------------------------->Output is True\n",
    "print(\"False and True: \",False and True)        #----------------------------------------->Output is False\n",
    "print(\"True and False: \",True and False)        #----------------------------------------->Output is False\n",
    "print(\"False and False: \",False and False)       #----------------------------------------->Output is False\n",
    "\n",
    "print(\"True or True: \",True or True)          #----------------------------------------->Output is True\n",
    "print(\"False or True: \",False or True)         #----------------------------------------->Output is True\n",
    "print(\"True or False: \",True or False)         #----------------------------------------->Output is True\n",
    "print(\"False or False: \",False or False)        #----------------------------------------->Output is False\n",
    "\n",
    "print(\"not True: \",not True)              #----------------------------------------->Output is False\n",
    "print(\"not False: \",not False)             #----------------------------------------->Output is True"
   ]
  },
  {
   "cell_type": "code",
   "execution_count": 50,
   "metadata": {
    "id": "02jPgt094vK-"
   },
   "outputs": [
    {
     "name": "stdout",
     "output_type": "stream",
     "text": [
      "True & True:  True\n",
      "True | False:  True\n",
      "True ^ False:  False\n",
      "~True:  -2\n",
      "True<<2:  4\n",
      "True>>2:  0\n"
     ]
    }
   ],
   "source": [
    "#Bitwise Operators\n",
    "#Do below operations on the values provided below:-\n",
    "    #Bitwise and(&) -----------------------------------------> True, True    -------> Output is True\n",
    "print(\"True & True: \", True & True )\n",
    "\n",
    "\n",
    "    #Bitwise or(|)  -----------------------------------------> True, False   -------> Output is True\n",
    "print(\"True | False: \", True | True )\n",
    "\n",
    "\n",
    "    #Bitwise(^)     -----------------------------------------> True, False   -------> Output is True\n",
    "print(\"True ^ False: \", True ^ True )\n",
    "  \n",
    "\n",
    "    #Bitwise negation(~) ------------------------------------> True          -------> Output is -2\n",
    "print(\"~True: \",~True)\n",
    "   \n",
    "\n",
    "    #Bitwise left shift  ------------------------------------> True,2        -------> Output is 4\n",
    "\n",
    "print(\"True<<2: \",True<<2)\n",
    "\n",
    "\n",
    "    #Bitwise right shift ------------------------------------> True,2        -------> Output is 0\n",
    "print(\"True>>2: \",(True>>2))\n",
    "\n",
    "\n",
    "#Cross check the output manually\n"
   ]
  },
  {
   "cell_type": "code",
   "execution_count": 16,
   "metadata": {
    "id": "cy5i7sWz4v_c"
   },
   "outputs": [
    {
     "name": "stdout",
     "output_type": "stream",
     "text": [
      "True\n",
      "False\n",
      "True\n",
      "False\n"
     ]
    }
   ],
   "source": [
    "#What is the output of expression inside print statement. Cross check before running the program.\n",
    "a = True\n",
    "b = True\n",
    "print(a is b)          #True or False?   #\n",
    "print(a is not b)      #True or False?\n",
    "\n",
    "a = False\n",
    "b = False\n",
    "print(a is b)          #True or False?\n",
    "print(a is not b)      #True or False?\n"
   ]
  },
  {
   "cell_type": "code",
   "execution_count": 15,
   "metadata": {
    "id": "AOcPQi8544M-"
   },
   "outputs": [
    {
     "name": "stdout",
     "output_type": "stream",
     "text": [
      "True\n",
      "True\n",
      "True\n",
      "True\n",
      "True\n"
     ]
    }
   ],
   "source": [
    "#Membership operation\n",
    "#in, not in are two membership operators and it returns boolean value\n",
    "\n",
    "print(True in [10,10.20,10+20j,'Python', True])\n",
    "print(False in (10,10.20,10+20j,'Python', False))\n",
    "print(True in {1,2,3, True})\n",
    "print(True in {True:100, False:200, True:300})\n",
    "print(False in {True:100, False:200, True:300})"
   ]
  },
  {
   "cell_type": "code",
   "execution_count": null,
   "metadata": {
    "id": "MPa1Lpco46Ja"
   },
   "outputs": [],
   "source": []
  }
 ],
 "metadata": {
  "colab": {
   "name": "Boolean_Assignement.ipynb",
   "provenance": []
  },
  "kernelspec": {
   "display_name": "Python 3",
   "language": "python",
   "name": "python3"
  },
  "language_info": {
   "codemirror_mode": {
    "name": "ipython",
    "version": 3
   },
   "file_extension": ".py",
   "mimetype": "text/x-python",
   "name": "python",
   "nbconvert_exporter": "python",
   "pygments_lexer": "ipython3",
   "version": "3.8.8"
  }
 },
 "nbformat": 4,
 "nbformat_minor": 1
}
